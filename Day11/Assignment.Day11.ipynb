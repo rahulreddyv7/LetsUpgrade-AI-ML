{
 "cells": [
  {
   "cell_type": "code",
   "execution_count": 2,
   "metadata": {},
   "outputs": [],
   "source": [
    "import pandas as pd\n",
    "import numpy as np\n",
    "import matplotlib.pyplot as plt\n",
    "import seaborn as sns"
   ]
  },
  {
   "cell_type": "code",
   "execution_count": 3,
   "metadata": {},
   "outputs": [
    {
     "data": {
      "text/html": [
       "<div>\n",
       "<style scoped>\n",
       "    .dataframe tbody tr th:only-of-type {\n",
       "        vertical-align: middle;\n",
       "    }\n",
       "\n",
       "    .dataframe tbody tr th {\n",
       "        vertical-align: top;\n",
       "    }\n",
       "\n",
       "    .dataframe thead th {\n",
       "        text-align: right;\n",
       "    }\n",
       "</style>\n",
       "<table border=\"1\" class=\"dataframe\">\n",
       "  <thead>\n",
       "    <tr style=\"text-align: right;\">\n",
       "      <th></th>\n",
       "      <th>DistanceFromHome_Yes</th>\n",
       "      <th>DistanceFromHome_No</th>\n",
       "      <th>MonthlyIncome_Yes</th>\n",
       "      <th>MonthlyIncome_No</th>\n",
       "      <th>TotalWorkingYears_Yes</th>\n",
       "      <th>TotalWorkingYears_No</th>\n",
       "      <th>YearsAtCompany_Yes</th>\n",
       "      <th>YearsAtCompany_No</th>\n",
       "      <th>YearsWithCurrManager_Yes</th>\n",
       "      <th>YearsWithCurrM0anager_No</th>\n",
       "    </tr>\n",
       "  </thead>\n",
       "  <tbody>\n",
       "    <tr>\n",
       "      <th>0</th>\n",
       "      <td>0</td>\n",
       "      <td>6</td>\n",
       "      <td>131160</td>\n",
       "      <td>20000</td>\n",
       "      <td>1</td>\n",
       "      <td>2</td>\n",
       "      <td>1</td>\n",
       "      <td>2</td>\n",
       "      <td>0</td>\n",
       "      <td>7</td>\n",
       "    </tr>\n",
       "    <tr>\n",
       "      <th>1</th>\n",
       "      <td>10</td>\n",
       "      <td>0</td>\n",
       "      <td>41890</td>\n",
       "      <td>120000</td>\n",
       "      <td>6</td>\n",
       "      <td>8</td>\n",
       "      <td>5</td>\n",
       "      <td>4</td>\n",
       "      <td>4</td>\n",
       "      <td>3</td>\n",
       "    </tr>\n",
       "    <tr>\n",
       "      <th>2</th>\n",
       "      <td>17</td>\n",
       "      <td>0</td>\n",
       "      <td>193280</td>\n",
       "      <td>55000</td>\n",
       "      <td>5</td>\n",
       "      <td>0</td>\n",
       "      <td>5</td>\n",
       "      <td>1</td>\n",
       "      <td>3</td>\n",
       "      <td>1</td>\n",
       "    </tr>\n",
       "    <tr>\n",
       "      <th>3</th>\n",
       "      <td>0</td>\n",
       "      <td>2</td>\n",
       "      <td>83210</td>\n",
       "      <td>25000</td>\n",
       "      <td>13</td>\n",
       "      <td>4</td>\n",
       "      <td>8</td>\n",
       "      <td>3</td>\n",
       "      <td>5</td>\n",
       "      <td>2</td>\n",
       "    </tr>\n",
       "    <tr>\n",
       "      <th>4</th>\n",
       "      <td>10</td>\n",
       "      <td>0</td>\n",
       "      <td>23420</td>\n",
       "      <td>89000</td>\n",
       "      <td>9</td>\n",
       "      <td>7</td>\n",
       "      <td>6</td>\n",
       "      <td>4</td>\n",
       "      <td>4</td>\n",
       "      <td>7</td>\n",
       "    </tr>\n",
       "    <tr>\n",
       "      <th>5</th>\n",
       "      <td>0</td>\n",
       "      <td>8</td>\n",
       "      <td>40710</td>\n",
       "      <td>140000</td>\n",
       "      <td>28</td>\n",
       "      <td>12</td>\n",
       "      <td>7</td>\n",
       "      <td>5</td>\n",
       "      <td>7</td>\n",
       "      <td>9</td>\n",
       "    </tr>\n",
       "    <tr>\n",
       "      <th>6</th>\n",
       "      <td>11</td>\n",
       "      <td>0</td>\n",
       "      <td>58130</td>\n",
       "      <td>21000</td>\n",
       "      <td>5</td>\n",
       "      <td>14</td>\n",
       "      <td>0</td>\n",
       "      <td>1</td>\n",
       "      <td>0</td>\n",
       "      <td>4</td>\n",
       "    </tr>\n",
       "    <tr>\n",
       "      <th>7</th>\n",
       "      <td>18</td>\n",
       "      <td>0</td>\n",
       "      <td>31430</td>\n",
       "      <td>78000</td>\n",
       "      <td>10</td>\n",
       "      <td>3</td>\n",
       "      <td>0</td>\n",
       "      <td>2</td>\n",
       "      <td>0</td>\n",
       "      <td>1</td>\n",
       "    </tr>\n",
       "    <tr>\n",
       "      <th>8</th>\n",
       "      <td>0</td>\n",
       "      <td>1</td>\n",
       "      <td>20440</td>\n",
       "      <td>89000</td>\n",
       "      <td>10</td>\n",
       "      <td>1</td>\n",
       "      <td>9</td>\n",
       "      <td>0</td>\n",
       "      <td>8</td>\n",
       "      <td>5</td>\n",
       "    </tr>\n",
       "    <tr>\n",
       "      <th>9</th>\n",
       "      <td>0</td>\n",
       "      <td>7</td>\n",
       "      <td>134640</td>\n",
       "      <td>25000</td>\n",
       "      <td>6</td>\n",
       "      <td>4</td>\n",
       "      <td>6</td>\n",
       "      <td>5</td>\n",
       "      <td>5</td>\n",
       "      <td>7</td>\n",
       "    </tr>\n",
       "    <tr>\n",
       "      <th>10</th>\n",
       "      <td>17</td>\n",
       "      <td>0</td>\n",
       "      <td>79910</td>\n",
       "      <td>124000</td>\n",
       "      <td>21</td>\n",
       "      <td>8</td>\n",
       "      <td>20</td>\n",
       "      <td>4</td>\n",
       "      <td>10</td>\n",
       "      <td>6</td>\n",
       "    </tr>\n",
       "    <tr>\n",
       "      <th>11</th>\n",
       "      <td>28</td>\n",
       "      <td>0</td>\n",
       "      <td>33770</td>\n",
       "      <td>78000</td>\n",
       "      <td>16</td>\n",
       "      <td>12</td>\n",
       "      <td>15</td>\n",
       "      <td>5</td>\n",
       "      <td>11</td>\n",
       "      <td>9</td>\n",
       "    </tr>\n",
       "    <tr>\n",
       "      <th>12</th>\n",
       "      <td>14</td>\n",
       "      <td>0</td>\n",
       "      <td>55380</td>\n",
       "      <td>21000</td>\n",
       "      <td>37</td>\n",
       "      <td>7</td>\n",
       "      <td>36</td>\n",
       "      <td>12</td>\n",
       "      <td>13</td>\n",
       "      <td>2</td>\n",
       "    </tr>\n",
       "    <tr>\n",
       "      <th>13</th>\n",
       "      <td>0</td>\n",
       "      <td>1</td>\n",
       "      <td>57620</td>\n",
       "      <td>45000</td>\n",
       "      <td>10</td>\n",
       "      <td>6</td>\n",
       "      <td>10</td>\n",
       "      <td>1</td>\n",
       "      <td>9</td>\n",
       "      <td>14</td>\n",
       "    </tr>\n",
       "    <tr>\n",
       "      <th>14</th>\n",
       "      <td>0</td>\n",
       "      <td>1</td>\n",
       "      <td>25920</td>\n",
       "      <td>110000</td>\n",
       "      <td>5</td>\n",
       "      <td>10</td>\n",
       "      <td>5</td>\n",
       "      <td>15</td>\n",
       "      <td>4</td>\n",
       "      <td>2</td>\n",
       "    </tr>\n",
       "    <tr>\n",
       "      <th>15</th>\n",
       "      <td>0</td>\n",
       "      <td>1</td>\n",
       "      <td>53460</td>\n",
       "      <td>78000</td>\n",
       "      <td>7</td>\n",
       "      <td>3</td>\n",
       "      <td>5</td>\n",
       "      <td>14</td>\n",
       "      <td>1</td>\n",
       "      <td>7</td>\n",
       "    </tr>\n",
       "    <tr>\n",
       "      <th>16</th>\n",
       "      <td>0</td>\n",
       "      <td>3</td>\n",
       "      <td>42130</td>\n",
       "      <td>120000</td>\n",
       "      <td>3</td>\n",
       "      <td>9</td>\n",
       "      <td>3</td>\n",
       "      <td>8</td>\n",
       "      <td>0</td>\n",
       "      <td>1</td>\n",
       "    </tr>\n",
       "    <tr>\n",
       "      <th>17</th>\n",
       "      <td>0</td>\n",
       "      <td>1</td>\n",
       "      <td>41270</td>\n",
       "      <td>48000</td>\n",
       "      <td>15</td>\n",
       "      <td>11</td>\n",
       "      <td>5</td>\n",
       "      <td>1</td>\n",
       "      <td>2</td>\n",
       "      <td>8</td>\n",
       "    </tr>\n",
       "    <tr>\n",
       "      <th>18</th>\n",
       "      <td>0</td>\n",
       "      <td>7</td>\n",
       "      <td>24380</td>\n",
       "      <td>12000</td>\n",
       "      <td>10</td>\n",
       "      <td>7</td>\n",
       "      <td>7</td>\n",
       "      <td>8</td>\n",
       "      <td>2</td>\n",
       "      <td>7</td>\n",
       "    </tr>\n",
       "    <tr>\n",
       "      <th>19</th>\n",
       "      <td>0</td>\n",
       "      <td>8</td>\n",
       "      <td>68700</td>\n",
       "      <td>42000</td>\n",
       "      <td>8</td>\n",
       "      <td>6</td>\n",
       "      <td>8</td>\n",
       "      <td>4</td>\n",
       "      <td>7</td>\n",
       "      <td>4</td>\n",
       "    </tr>\n",
       "  </tbody>\n",
       "</table>\n",
       "</div>"
      ],
      "text/plain": [
       "    DistanceFromHome_Yes  DistanceFromHome_No  MonthlyIncome_Yes  \\\n",
       "0                      0                    6             131160   \n",
       "1                     10                    0              41890   \n",
       "2                     17                    0             193280   \n",
       "3                      0                    2              83210   \n",
       "4                     10                    0              23420   \n",
       "5                      0                    8              40710   \n",
       "6                     11                    0              58130   \n",
       "7                     18                    0              31430   \n",
       "8                      0                    1              20440   \n",
       "9                      0                    7             134640   \n",
       "10                    17                    0              79910   \n",
       "11                    28                    0              33770   \n",
       "12                    14                    0              55380   \n",
       "13                     0                    1              57620   \n",
       "14                     0                    1              25920   \n",
       "15                     0                    1              53460   \n",
       "16                     0                    3              42130   \n",
       "17                     0                    1              41270   \n",
       "18                     0                    7              24380   \n",
       "19                     0                    8              68700   \n",
       "\n",
       "    MonthlyIncome_No  TotalWorkingYears_Yes  TotalWorkingYears_No  \\\n",
       "0              20000                      1                     2   \n",
       "1             120000                      6                     8   \n",
       "2              55000                      5                     0   \n",
       "3              25000                     13                     4   \n",
       "4              89000                      9                     7   \n",
       "5             140000                     28                    12   \n",
       "6              21000                      5                    14   \n",
       "7              78000                     10                     3   \n",
       "8              89000                     10                     1   \n",
       "9              25000                      6                     4   \n",
       "10            124000                     21                     8   \n",
       "11             78000                     16                    12   \n",
       "12             21000                     37                     7   \n",
       "13             45000                     10                     6   \n",
       "14            110000                      5                    10   \n",
       "15             78000                      7                     3   \n",
       "16            120000                      3                     9   \n",
       "17             48000                     15                    11   \n",
       "18             12000                     10                     7   \n",
       "19             42000                      8                     6   \n",
       "\n",
       "    YearsAtCompany_Yes  YearsAtCompany_No  YearsWithCurrManager_Yes  \\\n",
       "0                    1                  2                         0   \n",
       "1                    5                  4                         4   \n",
       "2                    5                  1                         3   \n",
       "3                    8                  3                         5   \n",
       "4                    6                  4                         4   \n",
       "5                    7                  5                         7   \n",
       "6                    0                  1                         0   \n",
       "7                    0                  2                         0   \n",
       "8                    9                  0                         8   \n",
       "9                    6                  5                         5   \n",
       "10                  20                  4                        10   \n",
       "11                  15                  5                        11   \n",
       "12                  36                 12                        13   \n",
       "13                  10                  1                         9   \n",
       "14                   5                 15                         4   \n",
       "15                   5                 14                         1   \n",
       "16                   3                  8                         0   \n",
       "17                   5                  1                         2   \n",
       "18                   7                  8                         2   \n",
       "19                   8                  4                         7   \n",
       "\n",
       "    YearsWithCurrM0anager_No  \n",
       "0                          7  \n",
       "1                          3  \n",
       "2                          1  \n",
       "3                          2  \n",
       "4                          7  \n",
       "5                          9  \n",
       "6                          4  \n",
       "7                          1  \n",
       "8                          5  \n",
       "9                          7  \n",
       "10                         6  \n",
       "11                         9  \n",
       "12                         2  \n",
       "13                        14  \n",
       "14                         2  \n",
       "15                         7  \n",
       "16                         1  \n",
       "17                         8  \n",
       "18                         7  \n",
       "19                         4  "
      ]
     },
     "execution_count": 3,
     "metadata": {},
     "output_type": "execute_result"
    }
   ],
   "source": [
    "data = pd.read_excel(\"C:/Users/RAHUL REDDY/Desktop/AIML/Letsupgrade/AI-ML-July-2020-master/Day-12/data12.xlsx\")\n",
    "data"
   ]
  },
  {
   "cell_type": "code",
   "execution_count": 4,
   "metadata": {},
   "outputs": [],
   "source": [
    "from scipy.stats import mannwhitneyu"
   ]
  },
  {
   "cell_type": "markdown",
   "metadata": {},
   "source": [
    "# Attrition Vs Distance from Home"
   ]
  },
  {
   "cell_type": "code",
   "execution_count": 5,
   "metadata": {},
   "outputs": [
    {
     "data": {
      "text/plain": [
       "Index(['DistanceFromHome_Yes', 'DistanceFromHome_No', 'MonthlyIncome_Yes',\n",
       "       'MonthlyIncome_No', 'TotalWorkingYears_Yes', 'TotalWorkingYears_No',\n",
       "       'YearsAtCompany_Yes', 'YearsAtCompany_No', 'YearsWithCurrManager_Yes',\n",
       "       'YearsWithCurrM0anager_No'],\n",
       "      dtype='object')"
      ]
     },
     "execution_count": 5,
     "metadata": {},
     "output_type": "execute_result"
    }
   ],
   "source": [
    "data.columns"
   ]
  },
  {
   "cell_type": "code",
   "execution_count": 6,
   "metadata": {},
   "outputs": [
    {
     "name": "stdout",
     "output_type": "stream",
     "text": [
      "192.0 0.4140521132569824\n"
     ]
    }
   ],
   "source": [
    "h0 = data.DistanceFromHome_Yes\n",
    "h1 = data.DistanceFromHome_No\n",
    "stats,p = mannwhitneyu(h0,h1)\n",
    "print(stats,p)"
   ]
  },
  {
   "cell_type": "markdown",
   "metadata": {},
   "source": [
    "__As the P value of 0.414 is > 0.05, the H0 is accepted and H1 is rejected.  \n",
    "H0: There is significant differences in the Distance From Home between attrition (Y) and attirition (N).  \n",
    "Ha: There is no significant differences in the Distance From Home between attrition (Y) and attirition (N).__"
   ]
  },
  {
   "cell_type": "markdown",
   "metadata": {},
   "source": [
    "# Attrition Vs Income"
   ]
  },
  {
   "cell_type": "code",
   "execution_count": 7,
   "metadata": {},
   "outputs": [
    {
     "name": "stdout",
     "output_type": "stream",
     "text": [
      "186.0 0.35743877353947784\n"
     ]
    }
   ],
   "source": [
    "h0 = data.MonthlyIncome_Yes\n",
    "h1 = data.MonthlyIncome_No\n",
    "stats,p = mannwhitneyu(h0,h1)\n",
    "print(stats,p)"
   ]
  },
  {
   "cell_type": "markdown",
   "metadata": {},
   "source": [
    "__As the P value of 0.357 is > 0.05, the H0 is accepted and H1 is rejected.  \n",
    "H0: There is significant differences in the MonthlyIncome between attrition (Y) and attirition (N).  \n",
    "Ha: There is no significant differences in the MonthlyIncome between attrition (Y) and attirition (N).__"
   ]
  },
  {
   "cell_type": "markdown",
   "metadata": {},
   "source": [
    "# Attrition Vs Total Working Years"
   ]
  },
  {
   "cell_type": "code",
   "execution_count": 8,
   "metadata": {},
   "outputs": [
    {
     "name": "stdout",
     "output_type": "stream",
     "text": [
      "138.5 0.04902245434345275\n"
     ]
    }
   ],
   "source": [
    "h0 = data.TotalWorkingYears_Yes\n",
    "h1 = data.TotalWorkingYears_No\n",
    "stats,p = mannwhitneyu(h0,h1)\n",
    "print(stats,p)"
   ]
  },
  {
   "cell_type": "markdown",
   "metadata": {},
   "source": [
    "__As the P value of 0.049 is > 0.05, the H0 is accepted and H1 is rejected.  \n",
    "H0: There is significant differences in the TotalWorkingYears between attrition (Y) and attirition (N).  \n",
    "Ha: There is no significant differences in the TotalWorkingYears between attrition (Y) and attirition (N).__"
   ]
  },
  {
   "cell_type": "markdown",
   "metadata": {},
   "source": [
    "# Attrition Vs Years at company"
   ]
  },
  {
   "cell_type": "code",
   "execution_count": 10,
   "metadata": {},
   "outputs": [
    {
     "name": "stdout",
     "output_type": "stream",
     "text": [
      "135.5 0.04074481303429345\n"
     ]
    }
   ],
   "source": [
    "h0 = data.YearsAtCompany_Yes\n",
    "h1 = data.YearsAtCompany_No\n",
    "stats,p = mannwhitneyu(h0,h1)\n",
    "print(stats,p)"
   ]
  },
  {
   "cell_type": "markdown",
   "metadata": {},
   "source": [
    "__As the P value of 0.040 is < 0.05, the H0 is rejected and H1 is accepted.  \n",
    "H0: There is no significant differences in the YearsAtCompany between attrition (Y) and attirition (N).  \n",
    "Ha: There is significant differences in the YearsAtCompany between attrition (Y) and attirition (N).__"
   ]
  },
  {
   "cell_type": "markdown",
   "metadata": {},
   "source": [
    "# Attrition Vs YearsWithCurrentManager"
   ]
  },
  {
   "cell_type": "code",
   "execution_count": 13,
   "metadata": {},
   "outputs": [
    {
     "name": "stdout",
     "output_type": "stream",
     "text": [
      "178.5 0.2838510217877289\n"
     ]
    }
   ],
   "source": [
    "h0 = data.YearsWithCurrManager_Yes\n",
    "h1 = data.YearsWithCurrM0anager_No\n",
    "stats,p = mannwhitneyu(h0,h1)\n",
    "print(stats,p)"
   ]
  },
  {
   "cell_type": "markdown",
   "metadata": {},
   "source": [
    "__As the P value of 0.283 is > 0.05, the H0 is accepted and H1 is rejected.  \n",
    "H0: There is significant differences in the YearsWithCurrManager between attrition (Y) and attirition (N).  \n",
    "Ha: There is no significant differences in the YearsWithCurrManager between attrition (Y) and attirition (N).__"
   ]
  },
  {
   "cell_type": "markdown",
   "metadata": {},
   "source": [
    "# Statistical Tests (Separate T Test)"
   ]
  },
  {
   "cell_type": "markdown",
   "metadata": {},
   "source": [
    "# Attrition Vs Distance From Home"
   ]
  },
  {
   "cell_type": "code",
   "execution_count": 15,
   "metadata": {},
   "outputs": [
    {
     "data": {
      "text/plain": [
       "Index(['DistanceFromHome_Yes', 'DistanceFromHome_No', 'MonthlyIncome_Yes',\n",
       "       'MonthlyIncome_No', 'TotalWorkingYears_Yes', 'TotalWorkingYears_No',\n",
       "       'YearsAtCompany_Yes', 'YearsAtCompany_No', 'YearsWithCurrManager_Yes',\n",
       "       'YearsWithCurrM0anager_No'],\n",
       "      dtype='object')"
      ]
     },
     "execution_count": 15,
     "metadata": {},
     "output_type": "execute_result"
    }
   ],
   "source": [
    "from scipy.stats import ttest_ind\n",
    "data.columns"
   ]
  },
  {
   "cell_type": "code",
   "execution_count": 17,
   "metadata": {},
   "outputs": [
    {
     "name": "stdout",
     "output_type": "stream",
     "text": [
      "-1.9274328359269242 0.061425596197977474\n"
     ]
    }
   ],
   "source": [
    "z1=data.DistanceFromHome_Yes\n",
    "z2=data.DistanceFromHome_No\n",
    "stat, p=ttest_ind(z2,z1)\n",
    "print(stat, p)"
   ]
  },
  {
   "cell_type": "markdown",
   "metadata": {},
   "source": [
    "__As the P value is again 0.06, which is > than 0.05, the H0 is accepted and ha is rejected.  \n",
    "H0: There is significant differences in the Distance From Home between attrition (Y) and attirition\n",
    "(N).  \n",
    "Ha: There is no significant differences in the Distance From Home between attrition (Y) and attirition (N)__"
   ]
  },
  {
   "cell_type": "markdown",
   "metadata": {},
   "source": [
    "# Attrition Vs Income"
   ]
  },
  {
   "cell_type": "code",
   "execution_count": 24,
   "metadata": {},
   "outputs": [
    {
     "name": "stdout",
     "output_type": "stream",
     "text": [
      "0.36633494816189316 0.7161469849563733\n"
     ]
    }
   ],
   "source": [
    "z1=data.MonthlyIncome_Yes\n",
    "z2=data.MonthlyIncome_No\n",
    "stat, p=ttest_ind(z2, z1)\n",
    "print(stat, p)"
   ]
  },
  {
   "cell_type": "markdown",
   "metadata": {},
   "source": [
    "__As the P value is again 0.71, which is > than 0.05, the H0 is accepted and ha is rejected.  \n",
    "H0: There is  significant differences in the Monthly Income between attrition (Y) and attirition (N).  \n",
    "Ha: There is no significant differences in the Monthly Income between attrition (Y) and attirition (N)__"
   ]
  },
  {
   "cell_type": "markdown",
   "metadata": {},
   "source": [
    "# Attrition Vs Yeats At Company"
   ]
  },
  {
   "cell_type": "code",
   "execution_count": 20,
   "metadata": {},
   "outputs": [
    {
     "name": "stdout",
     "output_type": "stream",
     "text": [
      "-1.5098569118878218 0.13935107509148328\n"
     ]
    }
   ],
   "source": [
    "z1=data.YearsAtCompany_Yes\n",
    "z2=data.YearsAtCompany_No\n",
    "stat, p=ttest_ind(z2, z1)\n",
    "print(stat, p)"
   ]
  },
  {
   "cell_type": "markdown",
   "metadata": {},
   "source": [
    "__As the P value is again 0.13, which is > than 0.05, the H0 is acceptedand ha is rejecpted.  \n",
    "H0: There is  significant differences in the Years At Company between attrition (Y) and attirition\n",
    "(N).  \n",
    "Ha: There is no significant differences in the Years At Company between attrition (Y) and attirition (N)__"
   ]
  },
  {
   "cell_type": "markdown",
   "metadata": {},
   "source": [
    "# Attrition Vs Years With Current Manager"
   ]
  },
  {
   "cell_type": "code",
   "execution_count": 22,
   "metadata": {},
   "outputs": [
    {
     "name": "stdout",
     "output_type": "stream",
     "text": [
      "0.4701903336937378 0.6409065062011281\n"
     ]
    }
   ],
   "source": [
    "z1=data.YearsWithCurrManager_Yes\n",
    "z2=data.YearsWithCurrM0anager_No\n",
    "stat, p=ttest_ind(z2, z1)\n",
    "print(stat, p)"
   ]
  },
  {
   "cell_type": "markdown",
   "metadata": {},
   "source": [
    "__As the P value is again 0.64, which is > than 0.05, the H0 is accepted and ha is rejected.  \n",
    "H0: There is significant differences in the Years With Current Manager between attrition (Y) and\n",
    "attirition (N).  \n",
    "Ha: There is no significant differences in the Years With Current Manager between attrition (Y) and\n",
    "attirition (N)__"
   ]
  }
 ],
 "metadata": {
  "kernelspec": {
   "display_name": "Python 3",
   "language": "python",
   "name": "python3"
  },
  "language_info": {
   "codemirror_mode": {
    "name": "ipython",
    "version": 3
   },
   "file_extension": ".py",
   "mimetype": "text/x-python",
   "name": "python",
   "nbconvert_exporter": "python",
   "pygments_lexer": "ipython3",
   "version": "3.7.6"
  }
 },
 "nbformat": 4,
 "nbformat_minor": 4
}
