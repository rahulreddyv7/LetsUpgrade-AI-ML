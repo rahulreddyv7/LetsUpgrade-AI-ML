{
 "cells": [
  {
   "cell_type": "markdown",
   "metadata": {},
   "source": [
    "## Question 1"
   ]
  },
  {
   "cell_type": "code",
   "execution_count": 15,
   "metadata": {},
   "outputs": [
    {
     "name": "stdout",
     "output_type": "stream",
     "text": [
      "Enter the email address : rahulreddy@tesla.com\n",
      "tesla\n"
     ]
    }
   ],
   "source": [
    "import re\n",
    "str1 = input(\"Enter the email address : \")\n",
    "match = re.search(\"(\\w*)@(\\w*).com\", str1)\n",
    "print(match.group(2))"
   ]
  },
  {
   "cell_type": "markdown",
   "metadata": {},
   "source": [
    "## Question 2"
   ]
  },
  {
   "cell_type": "code",
   "execution_count": 1,
   "metadata": {},
   "outputs": [
    {
     "name": "stdout",
     "output_type": "stream",
     "text": [
      "Enter the words : Dog,Monkey,Goat,Cat,Tiger,Lion,Zebra,Bull\n",
      "Bull,Cat,Dog,Goat,Lion,Monkey,Tiger,Zebra,"
     ]
    }
   ],
   "source": [
    "str2 = input(\"Enter the words : \")\n",
    "ls = sorted(str2.split(\",\"))\n",
    "for x in ls:\n",
    "    print(x,end=\",\")"
   ]
  },
  {
   "cell_type": "markdown",
   "metadata": {},
   "source": [
    "## Question 3"
   ]
  },
  {
   "cell_type": "markdown",
   "metadata": {},
   "source": [
    "__Set:__  \n",
    " -> A Set is an unordered collection data type that is iterable, mutable and has no duplicate elements.  \n",
    " Ex: set = {12,48,14,47,1}  -> For creating set."
   ]
  },
  {
   "cell_type": "code",
   "execution_count": 39,
   "metadata": {},
   "outputs": [
    {
     "data": {
      "text/plain": [
       "{1, 14, 21, 5, 7, 'apple'}"
      ]
     },
     "execution_count": 39,
     "metadata": {},
     "output_type": "execute_result"
    }
   ],
   "source": [
    "my_set = {1,7,14,\"apple\",21,5}\n",
    "my_set"
   ]
  },
  {
   "cell_type": "markdown",
   "metadata": {},
   "source": [
    "__Loops through sets and prints all elements:__"
   ]
  },
  {
   "cell_type": "code",
   "execution_count": 40,
   "metadata": {},
   "outputs": [
    {
     "name": "stdout",
     "output_type": "stream",
     "text": [
      "1\n",
      "5\n",
      "7\n",
      "14\n",
      "21\n",
      "apple\n"
     ]
    }
   ],
   "source": [
    "for x in my_set:\n",
    "    print(x)"
   ]
  },
  {
   "cell_type": "markdown",
   "metadata": {},
   "source": [
    " __Change and Add items in a set:__  \n",
    " -> Once a set is created, you cannot change its items, but you can add new items.  \n",
    " -> To add one item to a set use the add() method.  \n",
    " -> To add more than one item to a set use the update() method.  "
   ]
  },
  {
   "cell_type": "code",
   "execution_count": 41,
   "metadata": {},
   "outputs": [
    {
     "data": {
      "text/plain": [
       "{1, 14, 21, 5, 7, 'Orange', 'apple'}"
      ]
     },
     "execution_count": 41,
     "metadata": {},
     "output_type": "execute_result"
    }
   ],
   "source": [
    "my_set.add(\"Orange\")\n",
    "my_set"
   ]
  },
  {
   "cell_type": "code",
   "execution_count": 42,
   "metadata": {},
   "outputs": [
    {
     "data": {
      "text/plain": [
       "{1, 14, 21, 5, 7, 'Berrys', 'Grapes', 'Orange', 'apple'}"
      ]
     },
     "execution_count": 42,
     "metadata": {},
     "output_type": "execute_result"
    }
   ],
   "source": [
    "my_set.update([\"Grapes\",\"Berrys\"])\n",
    "my_set"
   ]
  },
  {
   "cell_type": "markdown",
   "metadata": {},
   "source": [
    "__Check wether the element is present in a set or not:__"
   ]
  },
  {
   "cell_type": "code",
   "execution_count": 43,
   "metadata": {},
   "outputs": [
    {
     "name": "stdout",
     "output_type": "stream",
     "text": [
      "True\n"
     ]
    }
   ],
   "source": [
    "print(\"apple\" in my_set)"
   ]
  },
  {
   "cell_type": "markdown",
   "metadata": {},
   "source": [
    "__Length of a set__"
   ]
  },
  {
   "cell_type": "code",
   "execution_count": 44,
   "metadata": {},
   "outputs": [
    {
     "name": "stdout",
     "output_type": "stream",
     "text": [
      "9\n"
     ]
    }
   ],
   "source": [
    "print(len(my_set))"
   ]
  },
  {
   "cell_type": "markdown",
   "metadata": {},
   "source": [
    "__Remove and pop in a set:__  \n",
    "-> Remove method removes what ever item we need  \n",
    "-> pop method removes first item"
   ]
  },
  {
   "cell_type": "code",
   "execution_count": 45,
   "metadata": {},
   "outputs": [
    {
     "data": {
      "text/plain": [
       "{1, 14, 21, 5, 7, 'Berrys', 'Grapes', 'Orange'}"
      ]
     },
     "execution_count": 45,
     "metadata": {},
     "output_type": "execute_result"
    }
   ],
   "source": [
    "my_set.remove(\"apple\")\n",
    "my_set"
   ]
  },
  {
   "cell_type": "code",
   "execution_count": 46,
   "metadata": {},
   "outputs": [
    {
     "name": "stdout",
     "output_type": "stream",
     "text": [
      "1\n"
     ]
    },
    {
     "data": {
      "text/plain": [
       "{14, 21, 5, 7, 'Berrys', 'Grapes', 'Orange'}"
      ]
     },
     "execution_count": 46,
     "metadata": {},
     "output_type": "execute_result"
    }
   ],
   "source": [
    "x = my_set.pop()\n",
    "print(x)\n",
    "my_set"
   ]
  },
  {
   "cell_type": "markdown",
   "metadata": {},
   "source": [
    "__Clear in a set:__  \n",
    "-> Clears the entire set"
   ]
  },
  {
   "cell_type": "code",
   "execution_count": 48,
   "metadata": {},
   "outputs": [
    {
     "data": {
      "text/plain": [
       "set()"
      ]
     },
     "execution_count": 48,
     "metadata": {},
     "output_type": "execute_result"
    }
   ],
   "source": [
    "my_set.clear()\n",
    "my_set"
   ]
  },
  {
   "cell_type": "markdown",
   "metadata": {},
   "source": [
    "__join the two sets:__  \n",
    "-> The __union__ method returns a new set with all items from both sets  \n",
    "-> The __update__ method inserts the items in set2 into set1"
   ]
  },
  {
   "cell_type": "code",
   "execution_count": 49,
   "metadata": {},
   "outputs": [
    {
     "data": {
      "text/plain": [
       "{1, 2, 3, 'Jhon', 'Rock', 'Tom'}"
      ]
     },
     "execution_count": 49,
     "metadata": {},
     "output_type": "execute_result"
    }
   ],
   "source": [
    "my_set1 = {\"Rock\",\"Jhon\",\"Tom\"}\n",
    "my_set2 = {1,2,3}\n",
    "my_set3 = my_set1.union(my_set2)\n",
    "my_set3"
   ]
  },
  {
   "cell_type": "code",
   "execution_count": 50,
   "metadata": {},
   "outputs": [
    {
     "data": {
      "text/plain": [
       "{1, 2, 3, 'Jhon', 'Rock', 'Tom'}"
      ]
     },
     "execution_count": 50,
     "metadata": {},
     "output_type": "execute_result"
    }
   ],
   "source": [
    "my_set1.update(my_set2)\n",
    "my_set1"
   ]
  },
  {
   "cell_type": "markdown",
   "metadata": {},
   "source": [
    "## Question 4"
   ]
  },
  {
   "cell_type": "code",
   "execution_count": 2,
   "metadata": {},
   "outputs": [
    {
     "name": "stdout",
     "output_type": "stream",
     "text": [
      "Enter the 'n' value : 8\n",
      "Enter the values upto n : 7 6 4 8 5 2 1\n",
      "3\n"
     ]
    }
   ],
   "source": [
    "n = int(input(\"Enter the 'n' value : \"))\n",
    "my_input = input(\"Enter the values upto n : \")\n",
    "my_list  = my_input.split(\" \")\n",
    "for x in range(1,(n+1)):\n",
    "    if str(x) in my_list:\n",
    "        pass\n",
    "    else:\n",
    "        print(x)"
   ]
  },
  {
   "cell_type": "markdown",
   "metadata": {},
   "source": [
    "## Question 5"
   ]
  },
  {
   "cell_type": "code",
   "execution_count": 34,
   "metadata": {},
   "outputs": [
    {
     "name": "stdout",
     "output_type": "stream",
     "text": [
      "Enter the values : 47 84 78 12 14 14 12 12 78 84 47 78 12 84\n",
      "12 14 78 47 84 "
     ]
    }
   ],
   "source": [
    "L = input(\"Enter the values : \")\n",
    "inlist = L.split(\" \")\n",
    "set1 = set(inlist)\n",
    "outlist = list(set1)\n",
    "outlist1 =[]\n",
    "for x in outlist:\n",
    "    outlist1.append(int(x))\n",
    "    print(int(x),end =\" \")"
   ]
  }
 ],
 "metadata": {
  "kernelspec": {
   "display_name": "Python 3",
   "language": "python",
   "name": "python3"
  },
  "language_info": {
   "codemirror_mode": {
    "name": "ipython",
    "version": 3
   },
   "file_extension": ".py",
   "mimetype": "text/x-python",
   "name": "python",
   "nbconvert_exporter": "python",
   "pygments_lexer": "ipython3",
   "version": "3.7.6"
  }
 },
 "nbformat": 4,
 "nbformat_minor": 4
}
