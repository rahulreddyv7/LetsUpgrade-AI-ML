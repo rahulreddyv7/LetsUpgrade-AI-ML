{
 "cells": [
  {
   "cell_type": "markdown",
   "metadata": {},
   "source": [
    "# 1. Create a 3x3x3 array with random values "
   ]
  },
  {
   "cell_type": "code",
   "execution_count": 3,
   "metadata": {},
   "outputs": [],
   "source": [
    "import numpy as np"
   ]
  },
  {
   "cell_type": "code",
   "execution_count": 5,
   "metadata": {},
   "outputs": [
    {
     "name": "stdout",
     "output_type": "stream",
     "text": [
      "[[[0.9033607  0.45565956 0.63757055]\n",
      "  [0.15884022 0.08422275 0.18799365]\n",
      "  [0.89731692 0.06199169 0.02194803]]\n",
      "\n",
      " [[0.61684556 0.79282198 0.73196333]\n",
      "  [0.5736133  0.58308952 0.78871576]\n",
      "  [0.54864968 0.19973781 0.6834206 ]]\n",
      "\n",
      " [[0.53022562 0.42195062 0.14562625]\n",
      "  [0.89672607 0.65450874 0.63863059]\n",
      "  [0.95198746 0.15032912 0.34351676]]]\n"
     ]
    }
   ],
   "source": [
    "array1 = np.random.random((3,3,3))\n",
    "print(array1)"
   ]
  },
  {
   "cell_type": "markdown",
   "metadata": {},
   "source": [
    "# 2.Create a 5x5 matrix with values 1,2,3,4 just below the diagonal"
   ]
  },
  {
   "cell_type": "code",
   "execution_count": 6,
   "metadata": {},
   "outputs": [
    {
     "name": "stdout",
     "output_type": "stream",
     "text": [
      "[[0 0 0 0 0]\n",
      " [1 0 0 0 0]\n",
      " [0 2 0 0 0]\n",
      " [0 0 3 0 0]\n",
      " [0 0 0 4 0]]\n"
     ]
    }
   ],
   "source": [
    "x = np.diag(1+np.arange(4),k=-1)\n",
    "print(x)"
   ]
  },
  {
   "cell_type": "markdown",
   "metadata": {},
   "source": [
    "# 3.Create a 8x8 matrix and fill it with a checkerboard pattern"
   ]
  },
  {
   "cell_type": "code",
   "execution_count": 7,
   "metadata": {},
   "outputs": [
    {
     "name": "stdout",
     "output_type": "stream",
     "text": [
      "[[0 1 0 1 0 1 0 1]\n",
      " [1 0 1 0 1 0 1 0]\n",
      " [0 1 0 1 0 1 0 1]\n",
      " [1 0 1 0 1 0 1 0]\n",
      " [0 1 0 1 0 1 0 1]\n",
      " [1 0 1 0 1 0 1 0]\n",
      " [0 1 0 1 0 1 0 1]\n",
      " [1 0 1 0 1 0 1 0]]\n"
     ]
    }
   ],
   "source": [
    "y = np.zeros((8,8),dtype=int)\n",
    "y[1::2,::2] = 1\n",
    "y[::2,1::2] = 1\n",
    "print(y)"
   ]
  },
  {
   "cell_type": "markdown",
   "metadata": {},
   "source": [
    "# 4. Normalize a 5x5 random matrix"
   ]
  },
  {
   "cell_type": "code",
   "execution_count": 9,
   "metadata": {},
   "outputs": [
    {
     "name": "stdout",
     "output_type": "stream",
     "text": [
      "[[-1.52883857  0.4045548  -1.18154327  1.1898297  -1.10845499]\n",
      " [ 0.96777966  0.55481547 -0.80777529  1.10624287  0.2494333 ]\n",
      " [ 0.95652326  0.35855201  1.02471364  0.2231024  -0.63676689]\n",
      " [-0.77226221  1.72985806  0.47899442 -0.62656689  1.61926921]\n",
      " [ 0.02242858 -0.06495264 -1.10378465 -1.48288415 -1.57226785]]\n"
     ]
    }
   ],
   "source": [
    "z = np.random.random((5,5))\n",
    "z = (z - np.mean (z)) / (np.std (z))\n",
    "print(z)"
   ]
  },
  {
   "cell_type": "markdown",
   "metadata": {},
   "source": [
    "# 5.  How to find common values between two arrays?"
   ]
  },
  {
   "cell_type": "code",
   "execution_count": 13,
   "metadata": {},
   "outputs": [
    {
     "name": "stdout",
     "output_type": "stream",
     "text": [
      "[1 4 5 6 7]\n"
     ]
    }
   ],
   "source": [
    "a = np.random.randint(0,10,10)\n",
    "b = np.random.randint(0,10,10)\n",
    "print(np.intersect1d(a,b))"
   ]
  },
  {
   "cell_type": "markdown",
   "metadata": {},
   "source": [
    "# 6.How to get the dates of yesterday, today and tomorrow?"
   ]
  },
  {
   "cell_type": "code",
   "execution_count": 12,
   "metadata": {},
   "outputs": [
    {
     "name": "stdout",
     "output_type": "stream",
     "text": [
      "2020-07-30\n",
      "2020-07-31\n",
      "2020-08-01\n"
     ]
    }
   ],
   "source": [
    "yesterday = np.datetime64('today') - np.timedelta64(1)\n",
    "today     = np.datetime64('today')\n",
    "tomorrow  = np.datetime64('today') + np.timedelta64(1)\n",
    "print(yesterday)\n",
    "print(today)\n",
    "print(tomorrow)"
   ]
  },
  {
   "cell_type": "markdown",
   "metadata": {},
   "source": [
    "# 7. Consider two random array A and B, check if they are equal"
   ]
  },
  {
   "cell_type": "code",
   "execution_count": 14,
   "metadata": {},
   "outputs": [
    {
     "name": "stdout",
     "output_type": "stream",
     "text": [
      "False\n",
      "False\n"
     ]
    }
   ],
   "source": [
    "a = np.random.randint(0,2,5)\n",
    "b = np.random.randint(0,2,5)\n",
    "\n",
    "equal = np.allclose(a,b)\n",
    "print(equal)\n",
    "\n",
    "equal = np.array_equal(a,b)\n",
    "print(equal)"
   ]
  },
  {
   "cell_type": "markdown",
   "metadata": {},
   "source": [
    "# 8.Create random vector of size 10 and replace the maximum value by 0 "
   ]
  },
  {
   "cell_type": "code",
   "execution_count": 16,
   "metadata": {},
   "outputs": [
    {
     "name": "stdout",
     "output_type": "stream",
     "text": [
      "[0.7030308  0.         0.8603135  0.15152438 0.12547198 0.13504511\n",
      " 0.5319289  0.82697482 0.696896   0.26160002]\n"
     ]
    }
   ],
   "source": [
    "a1 = np.random.random(10)\n",
    "a1[a1.argmax()] = 0\n",
    "print(a1)"
   ]
  },
  {
   "cell_type": "markdown",
   "metadata": {},
   "source": [
    "# 9. How to print all the values of an array?"
   ]
  },
  {
   "cell_type": "code",
   "execution_count": 17,
   "metadata": {},
   "outputs": [
    {
     "name": "stdout",
     "output_type": "stream",
     "text": [
      "[[0. 0. 0. 0. 0. 0. 0. 0. 0. 0. 0. 0. 0. 0. 0. 0.]\n",
      " [0. 0. 0. 0. 0. 0. 0. 0. 0. 0. 0. 0. 0. 0. 0. 0.]\n",
      " [0. 0. 0. 0. 0. 0. 0. 0. 0. 0. 0. 0. 0. 0. 0. 0.]\n",
      " [0. 0. 0. 0. 0. 0. 0. 0. 0. 0. 0. 0. 0. 0. 0. 0.]\n",
      " [0. 0. 0. 0. 0. 0. 0. 0. 0. 0. 0. 0. 0. 0. 0. 0.]\n",
      " [0. 0. 0. 0. 0. 0. 0. 0. 0. 0. 0. 0. 0. 0. 0. 0.]\n",
      " [0. 0. 0. 0. 0. 0. 0. 0. 0. 0. 0. 0. 0. 0. 0. 0.]\n",
      " [0. 0. 0. 0. 0. 0. 0. 0. 0. 0. 0. 0. 0. 0. 0. 0.]\n",
      " [0. 0. 0. 0. 0. 0. 0. 0. 0. 0. 0. 0. 0. 0. 0. 0.]\n",
      " [0. 0. 0. 0. 0. 0. 0. 0. 0. 0. 0. 0. 0. 0. 0. 0.]\n",
      " [0. 0. 0. 0. 0. 0. 0. 0. 0. 0. 0. 0. 0. 0. 0. 0.]\n",
      " [0. 0. 0. 0. 0. 0. 0. 0. 0. 0. 0. 0. 0. 0. 0. 0.]\n",
      " [0. 0. 0. 0. 0. 0. 0. 0. 0. 0. 0. 0. 0. 0. 0. 0.]\n",
      " [0. 0. 0. 0. 0. 0. 0. 0. 0. 0. 0. 0. 0. 0. 0. 0.]\n",
      " [0. 0. 0. 0. 0. 0. 0. 0. 0. 0. 0. 0. 0. 0. 0. 0.]\n",
      " [0. 0. 0. 0. 0. 0. 0. 0. 0. 0. 0. 0. 0. 0. 0. 0.]]\n"
     ]
    }
   ],
   "source": [
    "np.set_printoptions(threshold=float(\"inf\"))\n",
    "d = np.zeros((16,16))\n",
    "print(d)"
   ]
  },
  {
   "cell_type": "markdown",
   "metadata": {},
   "source": [
    "# 10.Subtract the mean of each row of a matrix"
   ]
  },
  {
   "cell_type": "code",
   "execution_count": 18,
   "metadata": {},
   "outputs": [
    {
     "name": "stdout",
     "output_type": "stream",
     "text": [
      "[[ 0.3418159   0.16596757 -0.06604819 -0.41193569  0.52930647  0.04864691\n",
      "   0.13635574 -0.29945194 -0.40739847 -0.0372583 ]\n",
      " [ 0.34778307  0.42067144  0.36643971 -0.41576965  0.06191767 -0.05220702\n",
      "  -0.30542853  0.03232542  0.02253108 -0.47826321]\n",
      " [ 0.35999155 -0.15739321  0.33686779 -0.16807716 -0.01910322 -0.09688168\n",
      "   0.43468382 -0.16590475 -0.30123585 -0.2229473 ]\n",
      " [ 0.30772482 -0.249034   -0.23424425  0.57669467 -0.18810284 -0.01969804\n",
      "  -0.24074132 -0.17848431 -0.03349098  0.25937624]\n",
      " [ 0.28529007  0.47990659 -0.40223186 -0.40776111  0.47172585 -0.41391217\n",
      "  -0.15189049  0.1037168   0.09771248 -0.06255617]]\n",
      "[[ 0.3418159   0.16596757 -0.06604819 -0.41193569  0.52930647  0.04864691\n",
      "   0.13635574 -0.29945194 -0.40739847 -0.0372583 ]\n",
      " [ 0.34778307  0.42067144  0.36643971 -0.41576965  0.06191767 -0.05220702\n",
      "  -0.30542853  0.03232542  0.02253108 -0.47826321]\n",
      " [ 0.35999155 -0.15739321  0.33686779 -0.16807716 -0.01910322 -0.09688168\n",
      "   0.43468382 -0.16590475 -0.30123585 -0.2229473 ]\n",
      " [ 0.30772482 -0.249034   -0.23424425  0.57669467 -0.18810284 -0.01969804\n",
      "  -0.24074132 -0.17848431 -0.03349098  0.25937624]\n",
      " [ 0.28529007  0.47990659 -0.40223186 -0.40776111  0.47172585 -0.41391217\n",
      "  -0.15189049  0.1037168   0.09771248 -0.06255617]]\n"
     ]
    }
   ],
   "source": [
    "a = np.random.rand(5, 10)\n",
    "\n",
    "b = a - a.mean(axis=1, keepdims=True)\n",
    "\n",
    "b1 = a - a.mean(axis=1).reshape(-1, 1)\n",
    "\n",
    "print(b)\n",
    "print(b1)"
   ]
  },
  {
   "cell_type": "markdown",
   "metadata": {},
   "source": [
    "# 11.Consider a given vector, how to add 1 to each element indexed by a second vector (be careful with repeated indices)? "
   ]
  },
  {
   "cell_type": "code",
   "execution_count": 20,
   "metadata": {},
   "outputs": [
    {
     "name": "stdout",
     "output_type": "stream",
     "text": [
      "[3. 1. 2. 3. 4. 2. 2. 4. 2. 7.]\n"
     ]
    }
   ],
   "source": [
    "a = np.ones(10)\n",
    "I = np.random.randint(0,len(a),20)\n",
    "a += np.bincount(I, minlength=len(a))\n",
    "print(a)"
   ]
  },
  {
   "cell_type": "code",
   "execution_count": 22,
   "metadata": {},
   "outputs": [
    {
     "name": "stdout",
     "output_type": "stream",
     "text": [
      "[ 5.  1.  3.  5.  7.  3.  3.  7.  3. 13.]\n"
     ]
    }
   ],
   "source": [
    "np.add.at(a, I, 1)\n",
    "print(a)"
   ]
  },
  {
   "cell_type": "markdown",
   "metadata": {},
   "source": [
    "# 12.How to get the diagonal of a dot product?"
   ]
  },
  {
   "cell_type": "code",
   "execution_count": 23,
   "metadata": {},
   "outputs": [
    {
     "name": "stdout",
     "output_type": "stream",
     "text": [
      "[[0.54559277 0.36499668 0.84555152 0.06419819 0.87049368]\n",
      " [0.41447934 0.23747835 0.37903112 0.51171055 0.96122689]\n",
      " [0.4099028  0.12541507 0.88756679 0.04081594 0.79234585]\n",
      " [0.28048742 0.41516479 0.02409009 0.1567339  0.98280931]\n",
      " [0.52950536 0.78280021 0.20160521 0.21465828 0.9395213 ]]\n",
      "[[0.17494361 0.50222215 0.50919139 0.31962725 0.23763491]\n",
      " [0.19837274 0.23784634 0.33138621 0.41132783 0.39427294]\n",
      " [0.61522991 0.12168488 0.02421368 0.34191976 0.42699552]\n",
      " [0.17132114 0.25621849 0.01877098 0.77461614 0.8236365 ]\n",
      " [0.5384262  0.06306906 0.82226633 0.87912614 0.33223615]]\n",
      "diagonal of a dot product method 1 is.... [1.16775705 0.5024998  0.92405653 1.25407909 1.00949376]\n",
      "diagonal of a dot product method 2 is.... [1.16775705 0.5024998  0.92405653 1.25407909 1.00949376]\n"
     ]
    }
   ],
   "source": [
    "A = np.random.uniform(0,1,(5,5))\n",
    "B = np.random.uniform(0,1,(5,5))\n",
    "print(A)\n",
    "print(B)\n",
    "\n",
    "pr1=np.diag(np.dot(A, B))\n",
    "\n",
    "pr2=np.sum(A * B.T, axis=1)\n",
    "\n",
    "print(\"diagonal of a dot product method 1 is....\",pr1)\n",
    "print(\"diagonal of a dot product method 2 is....\",pr2)"
   ]
  },
  {
   "cell_type": "markdown",
   "metadata": {},
   "source": [
    "# 13.How to find the most frequent value in an array?"
   ]
  },
  {
   "cell_type": "code",
   "execution_count": 24,
   "metadata": {},
   "outputs": [
    {
     "name": "stdout",
     "output_type": "stream",
     "text": [
      "[0 8 2 8 3 0 8 6 6 5 4 9 4 2 2 1 2 4 1 4 9 9 0 1 0 3 9 6 9 8 7 6 2 7 2 6 5\n",
      " 7 0 3 6 8 8 3 0 8 5 5 2 0]\n",
      "0\n"
     ]
    }
   ],
   "source": [
    "a = np.random.randint(0,10,50)\n",
    "print(a)\n",
    "print(np.bincount(a).argmax())"
   ]
  },
  {
   "cell_type": "markdown",
   "metadata": {},
   "source": [
    "# 14.How to get the n largest values of an array"
   ]
  },
  {
   "cell_type": "code",
   "execution_count": 29,
   "metadata": {},
   "outputs": [
    {
     "name": "stdout",
     "output_type": "stream",
     "text": [
      "[9995 9996 9997 9998 9999]\n"
     ]
    }
   ],
   "source": [
    "a = np.arange(10000)\n",
    "np.random.shuffle(a)\n",
    "n = 5\n",
    "\n",
    "\n",
    "print (a[np.argsort(a)[-n:]])"
   ]
  },
  {
   "cell_type": "markdown",
   "metadata": {},
   "source": [
    "# 15.How to create a record array from a regular array?"
   ]
  },
  {
   "cell_type": "code",
   "execution_count": 30,
   "metadata": {},
   "outputs": [
    {
     "name": "stdout",
     "output_type": "stream",
     "text": [
      "[(b'Hello', 2.5, 3) (b'World', 3.6, 2)]\n"
     ]
    }
   ],
   "source": [
    "z = np.array([(\"Hello\", 2.5, 3),\n",
    "              (\"World\", 3.6, 2)])\n",
    "r = np.core.records.fromarrays(z.T,\n",
    "                               names='col1, col2, col3',\n",
    "                               formats = 'S8, f8, i8')\n",
    "print(r)"
   ]
  }
 ],
 "metadata": {
  "kernelspec": {
   "display_name": "Python 3",
   "language": "python",
   "name": "python3"
  },
  "language_info": {
   "codemirror_mode": {
    "name": "ipython",
    "version": 3
   },
   "file_extension": ".py",
   "mimetype": "text/x-python",
   "name": "python",
   "nbconvert_exporter": "python",
   "pygments_lexer": "ipython3",
   "version": "3.7.6"
  }
 },
 "nbformat": 4,
 "nbformat_minor": 2
}
