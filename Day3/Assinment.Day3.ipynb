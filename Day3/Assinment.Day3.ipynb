{
 "cells": [
  {
   "cell_type": "markdown",
   "metadata": {},
   "source": [
    "## Question 1 "
   ]
  },
  {
   "cell_type": "code",
   "execution_count": 12,
   "metadata": {},
   "outputs": [
    {
     "name": "stdout",
     "output_type": "stream",
     "text": [
      "(5+3j)\n"
     ]
    }
   ],
   "source": [
    "a = 9+4j\n",
    "b = 4+1j\n",
    "c = a - b\n",
    "print(c)"
   ]
  },
  {
   "cell_type": "markdown",
   "metadata": {},
   "source": [
    "## Question 2"
   ]
  },
  {
   "cell_type": "code",
   "execution_count": 23,
   "metadata": {},
   "outputs": [
    {
     "name": "stdout",
     "output_type": "stream",
     "text": [
      "3\n"
     ]
    }
   ],
   "source": [
    "n = 81\n",
    "fourth_root = n**(1/4)\n",
    "print(int(fourth_root))"
   ]
  },
  {
   "cell_type": "markdown",
   "metadata": {},
   "source": [
    "## Question 3"
   ]
  },
  {
   "cell_type": "code",
   "execution_count": 30,
   "metadata": {},
   "outputs": [
    {
     "name": "stdout",
     "output_type": "stream",
     "text": [
      "Swaped value of A is : 45\n",
      "Swaped value of B is : 23\n"
     ]
    }
   ],
   "source": [
    "A = 23\n",
    "B = 45\n",
    "temp = A\n",
    "A = B\n",
    "B = temp\n",
    "print(\"Swaped value of A is :\",A)\n",
    "print(\"Swaped value of B is :\",B)"
   ]
  },
  {
   "cell_type": "markdown",
   "metadata": {},
   "source": [
    "## Question 4"
   ]
  },
  {
   "cell_type": "code",
   "execution_count": 32,
   "metadata": {},
   "outputs": [
    {
     "name": "stdout",
     "output_type": "stream",
     "text": [
      "Swaped value of A is : 45\n",
      "Swaped value of B is : 23\n"
     ]
    }
   ],
   "source": [
    "A = 23\n",
    "B = 45\n",
    "(A,B) = (B,A)\n",
    "print(\"Swaped value of A is :\",A)\n",
    "print(\"Swaped value of B is :\",B)"
   ]
  },
  {
   "cell_type": "markdown",
   "metadata": {},
   "source": [
    "## Question 5"
   ]
  },
  {
   "cell_type": "code",
   "execution_count": 46,
   "metadata": {},
   "outputs": [
    {
     "name": "stdout",
     "output_type": "stream",
     "text": [
      "Tempetature in Celsius is: 35.0\n",
      "Tempetature in Kelvin is: 308.15\n"
     ]
    }
   ],
   "source": [
    "#Fahrenheit as F\n",
    "#Kelvin as K\n",
    "#Celsius as C\n",
    "F = 95\n",
    "C = (F - 32) * (5/9)\n",
    "K = (F - 32) * (5/9) + 273.15\n",
    "print(\"Tempetature in Celsius is:\",C)\n",
    "print(\"Tempetature in Kelvin is:\",K)"
   ]
  },
  {
   "cell_type": "markdown",
   "metadata": {},
   "source": [
    "## Question 6"
   ]
  },
  {
   "cell_type": "code",
   "execution_count": 7,
   "metadata": {},
   "outputs": [
    {
     "name": "stdout",
     "output_type": "stream",
     "text": [
      "<class 'str'>\n",
      "<class 'int'>\n",
      "<class 'float'>\n",
      "<class 'complex'>\n",
      "<class 'list'>\n",
      "<class 'tuple'>\n",
      "<class 'set'>\n",
      "<class 'dict'>\n"
     ]
    }
   ],
   "source": [
    "A1 = \"Machine Learning is good\"\n",
    "A2 = 77\n",
    "A3 = 4.12\n",
    "A4 = 2+5j\n",
    "A5 = [5,1,\"Rahul\",8]\n",
    "A6 = (5,8,\"Reddy\",4)\n",
    "A7 = {8,6,1}\n",
    "A8 = {\"key1\":15,\"key2\":10}\n",
    "print(type(A1))\n",
    "print(type(A2))\n",
    "print(type(A3))\n",
    "print(type(A4))\n",
    "print(type(A5))\n",
    "print(type(A6))\n",
    "print(type(A7))\n",
    "print(type(A8))"
   ]
  },
  {
   "cell_type": "markdown",
   "metadata": {},
   "source": [
    "## Question 7"
   ]
  },
  {
   "cell_type": "markdown",
   "metadata": {},
   "source": [
    "# Steps to Create Github profile and upload Githubs Assignment link\n",
    "\n",
    "__Step1__: Create a Github account with your mail ID if you do not have it  \n",
    "__Step2__: Create a Repository with a nane of 'LetsUpgrade AI-ML'  \n",
    "__Step3__: Upload the assignment file  \n",
    "__Step4__: Open the Repository and copy the URL of that  \n",
    "__Step5__: And open assignment submission link which is given by LetsUpgrade team   \n",
    "__Step6__: Enter the required details and paste the Github file link and submit it  \n",
    "__Note__:  Make sure the your file is in public mode  "
   ]
  },
  {
   "cell_type": "code",
   "execution_count": null,
   "metadata": {},
   "outputs": [],
   "source": []
  }
 ],
 "metadata": {
  "kernelspec": {
   "display_name": "Python 3",
   "language": "python",
   "name": "python3"
  },
  "language_info": {
   "codemirror_mode": {
    "name": "ipython",
    "version": 3
   },
   "file_extension": ".py",
   "mimetype": "text/x-python",
   "name": "python",
   "nbconvert_exporter": "python",
   "pygments_lexer": "ipython3",
   "version": "3.7.6"
  }
 },
 "nbformat": 4,
 "nbformat_minor": 4
}
