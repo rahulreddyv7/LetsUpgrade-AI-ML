{
 "cells": [
  {
   "cell_type": "markdown",
   "metadata": {},
   "source": [
    "## Question 1"
   ]
  },
  {
   "cell_type": "code",
   "execution_count": 6,
   "metadata": {},
   "outputs": [
    {
     "name": "stdout",
     "output_type": "stream",
     "text": [
      "3\n",
      "5\n",
      "7\n",
      "11\n",
      "13\n",
      "17\n",
      "19\n",
      "23\n",
      "29\n",
      "31\n",
      "37\n",
      "41\n",
      "43\n",
      "47\n",
      "53\n",
      "59\n",
      "61\n",
      "67\n",
      "71\n",
      "73\n"
     ]
    }
   ],
   "source": [
    "i=0\n",
    "check=0\n",
    "integer=3\n",
    "while i<20:\n",
    "    for j in range(3,integer,2):\n",
    "        if integer%j==0:\n",
    "            check=1\n",
    "            break\n",
    "    if check==0:\n",
    "        i+=1\n",
    "        print(integer)\n",
    "    integer+=2\n",
    "    check=0"
   ]
  },
  {
   "cell_type": "markdown",
   "metadata": {},
   "source": [
    "## Question 2"
   ]
  },
  {
   "cell_type": "code",
   "execution_count": 50,
   "metadata": {},
   "outputs": [
    {
     "name": "stdout",
     "output_type": "stream",
     "text": [
      "Machine learning is good learning.\n",
      "MACHINE LEARNING IS GOOD LEARNING.\n",
      "machine learning is good learning.\n",
      "False\n",
      "M,a,c,h,i,n,e, ,L,e,a,r,n,i,n,g, ,i,s, ,g,o,o,d, ,L,e,a,r,n,i,n,g,.\n",
      "False\n",
      "Machine Teaching is good Teaching.\n",
      "mACHINE lEARNING IS GOOD lEARNING.\n",
      "8\n",
      "17\n",
      "['Machine', 'Learning', 'is', 'good', 'Learning.']\n",
      "Machine Learning Is Good Learning.\n",
      "True\n",
      "False\n",
      "True\n",
      "2\n"
     ]
    }
   ],
   "source": [
    "my_string = \"Machine Learning is good Learning.\"\n",
    "print(my_string.capitalize())\n",
    "print(my_string.upper())\n",
    "print(my_string.lower())\n",
    "print(my_string.isalpha())\n",
    "my_join = \",\"\n",
    "print(my_join.join(my_string))\n",
    "print(my_string.isalnum())\n",
    "print(my_string.replace(\"Learning\",\"Teaching\"))\n",
    "print(my_string.swapcase())\n",
    "print(my_string.find(\"Learning\"))\n",
    "print(my_string.index(\"is\"))\n",
    "print(my_string.split(\" \"))\n",
    "print(my_string.title())\n",
    "print(my_string.isprintable())\n",
    "print(my_string.isnumeric())\n",
    "print(my_string.endswith(\".\"))\n",
    "print(my_string.count(\"Learning\"))"
   ]
  },
  {
   "cell_type": "markdown",
   "metadata": {},
   "source": [
    "## Question 3"
   ]
  },
  {
   "cell_type": "code",
   "execution_count": 20,
   "metadata": {},
   "outputs": [
    {
     "name": "stdout",
     "output_type": "stream",
     "text": [
      "Enter a Main String : listen\n",
      "Enter a Second String : silent\n",
      "Given string is a Anagram\n"
     ]
    }
   ],
   "source": [
    "main_string = input(\"Enter a Main String : \")\n",
    "\n",
    "if (main_string == main_string[::-1]):\n",
    "    print(\"Given string is a Palindrome\")\n",
    "else:\n",
    "    second_string = input(\"Enter a Second String : \")\n",
    "    if (sorted(main_string) == sorted(second_string)):\n",
    "        print(\"Given string is a Anagram\")\n",
    "    else:\n",
    "        print(\"Given string is none of them\")\n"
   ]
  },
  {
   "cell_type": "markdown",
   "metadata": {},
   "source": [
    "## Question 4"
   ]
  },
  {
   "cell_type": "code",
   "execution_count": 14,
   "metadata": {},
   "outputs": [
    {
     "name": "stdout",
     "output_type": "stream",
     "text": [
      "Enter the string : malayam\n",
      "malayam\n"
     ]
    }
   ],
   "source": [
    "raw_string = input(\"Enter the string : \")\n",
    "my_list = []\n",
    "for i in raw_string:\n",
    "    if 65<=ord(i)<91 or 97<=ord(i)<123:\n",
    "        my_list.append(i)\n",
    "print((''.join(my_list)).lower())"
   ]
  }
 ],
 "metadata": {
  "kernelspec": {
   "display_name": "Python 3",
   "language": "python",
   "name": "python3"
  },
  "language_info": {
   "codemirror_mode": {
    "name": "ipython",
    "version": 3
   },
   "file_extension": ".py",
   "mimetype": "text/x-python",
   "name": "python",
   "nbconvert_exporter": "python",
   "pygments_lexer": "ipython3",
   "version": "3.7.6"
  }
 },
 "nbformat": 4,
 "nbformat_minor": 4
}
