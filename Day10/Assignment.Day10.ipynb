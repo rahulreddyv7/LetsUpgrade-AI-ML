{
 "cells": [
  {
   "cell_type": "markdown",
   "metadata": {},
   "source": [
    "## Problem1"
   ]
  },
  {
   "attachments": {},
   "cell_type": "markdown",
   "metadata": {},
   "source": [
    "__Problem statement:__ If Total working experience is equal to 10 then Attrition is there.  \n",
    "Given n = 4410 , X = 11.2 , S = 60.56 , level of significance(a) = 0.10  \n",
    "  \n",
    "__Step1:__  \n",
    "Defining null hypothesis and Aternate hypothesis:\n",
    "Null hypothesis  : mean(u) = 10  \n",
    "Alternate hypothesis  :  mean(u) != 10  \n",
    "  \n",
    "__Step2:__  \n",
    "Select the appropriate  test:\n",
    "Selected Two-tail t-test\n",
    "t = (X-u)/(S/root(n)) \n",
    "  \n",
    "__Step3:__  \n",
    "Choosing the level of significance,confidence interval and Degree of Freedom\n",
    "  \n",
    "__Step4:__  \n",
    "Compute the t value from the formula:  \n",
    "t = 1.315  \n",
    "  \n",
    "__Step5:__  \n",
    "Compute the t value from a table:  \n",
    "t = 1.645  \n",
    "  \n",
    "__Step6:__  \n",
    "Compare the calculated value and table value  \n",
    "\n",
    "__Step7:__  \n",
    "Calculated t-value (1.315) does not lies on the rejection region.  \n",
    "So, the statement is true, attrition is there with employeeshaving 10 years experience "
   ]
  },
  {
   "cell_type": "markdown",
   "metadata": {},
   "source": [
    "## Problem2"
   ]
  },
  {
   "cell_type": "markdown",
   "metadata": {},
   "source": [
    "__Problem statement:__ If the age of the employee is greater then 36 then Attrition is there.  \n",
    "Given n = 70 , X = 38.2 , S = 83.41 , level of significance(a) = 0.05  \n",
    "  \n",
    "__Step1:__  \n",
    "Defining null hypothesis and Aternate hypothesis:\n",
    "Null hypothesis  : mean(u) => 36 \n",
    "Alternate hypothesis  :  mean(u) < 36  \n",
    "  \n",
    "__Step2:__  \n",
    "Select the appropriate  test:\n",
    "Selected one-tail t-test\n",
    "t = (X-u)/(S/root(n)) \n",
    "  \n",
    "__Step3:__  \n",
    "Choosing the level of significance,confidence interval and Degree of Freedom\n",
    "DOF = 70-8 = 62  \n",
    "  \n",
    "__Step4:__  \n",
    "Compute the t value from the formula:  \n",
    "t = 1.84 \n",
    "  \n",
    "__Step5:__  \n",
    "Compute the t value from a table:  \n",
    "t = 1.67 \n",
    "  \n",
    "__Step6:__  \n",
    "Compare the calculated value and table value  \n",
    "\n",
    "__Step7:__  \n",
    "Calculated t-value (1.67) does lies on the rejection region.  \n",
    "So, the statement is False, attrition is not there with employees having age greater than 36"
   ]
  },
  {
   "cell_type": "markdown",
   "metadata": {},
   "source": [
    "## Problem3"
   ]
  },
  {
   "cell_type": "markdown",
   "metadata": {},
   "source": [
    "__Problem statement:__ If the age of the employees are getting salary less then 54,000 then Attrition is there.  \n",
    "Given n = 70 , X = 65,000 , S = 83.41 , level of significance(a) = 0.05  \n",
    "  \n",
    "__Step1:__  \n",
    "Defining null hypothesis and Aternate hypothesis:\n",
    "Null hypothesis  : mean(u) => 54,000\n",
    "Alternate hypothesis  :  mean(u) < 54,000  \n",
    "  \n",
    "__Step2:__  \n",
    "Select the appropriate  test:\n",
    "Selected one-tail t-test\n",
    "t = (X-u)/(S/root(n)) \n",
    "  \n",
    "__Step3:__  \n",
    "Choosing the level of significance,confidence interval and Degree of Freedom\n",
    "DOF = 70-8 = 62  \n",
    "  \n",
    "__Step4:__  \n",
    "Compute the t value from the formula:  \n",
    "t = 1.95 \n",
    "  \n",
    "__Step5:__  \n",
    "Compute the t value from a table:  \n",
    "t = 2.45\n",
    "  \n",
    "__Step6:__  \n",
    "Compare the calculated value and table value  \n",
    "\n",
    "__Step7:__  \n",
    "Calculated t-value does not lies on the rejection region.  \n",
    "So, the statement is True, attrition is  there with employees who are getting salary of less than 54,000"
   ]
  },
  {
   "cell_type": "markdown",
   "metadata": {},
   "source": [
    "## Problem4"
   ]
  },
  {
   "cell_type": "markdown",
   "metadata": {},
   "source": [
    "__Problem statement:__ If the minimum distance from home to office is greater than 10kms then Attrition is there.  \n",
    "Given n = 70 , X = 9 , a = 8.1 , level of significance(a) = 0.10   \n",
    "  \n",
    "__Step1:__  \n",
    "Defining null hypothesis and Aternate hypothesis:\n",
    "Null hypothesis  : mean(u) => 7  \n",
    "Alternate hypothesis  :  mean(u) < 7  \n",
    "  \n",
    "__Step2:__  \n",
    "Select the appropriate  test:\n",
    "Selected one-tail t-test\n",
    "z = (X-u)/(a/root(n)) \n",
    "  \n",
    "__Step3:__  \n",
    "Choosing the level of significance,confidence interval and Degree of Freedom\n",
    "DOF = 70-8 = 62\n",
    "  \n",
    "__Step4:__  \n",
    "Compute the t value from the formula:  \n",
    "Z = 2.03\n",
    "  \n",
    "__Step5:__  \n",
    "Compute the t value from a table:  \n",
    "Z = 2.32\n",
    "  \n",
    "__Step6:__  \n",
    "Compare the calculated value and table value  \n",
    "\n",
    "__Step7:__  \n",
    "Calculated z-value does lies on the rejection region.  \n",
    "So, the statement is True, attrition is  there with employees who are having their homes more than 10Kms far."
   ]
  },
  {
   "cell_type": "markdown",
   "metadata": {},
   "source": [
    "## Problem5"
   ]
  },
  {
   "cell_type": "markdown",
   "metadata": {},
   "source": [
    "__Problem statement:__ If the employee is there 6 years in a company then Attrition is there.  \n",
    "Given n = 70 , X = 7 , S = 37.51 , level of significance(a) = 0.05   \n",
    "  \n",
    "__Step1:__  \n",
    "Defining null hypothesis and Aternate hypothesis:\n",
    "Null hypothesis  : mean(u) = 6 \n",
    "Alternate hypothesis  :  mean(u) != 7  \n",
    "  \n",
    "__Step2:__  \n",
    "Select the appropriate  test:\n",
    "Selected one-tail t-test\n",
    "t = (X-u)/(S/root(n)) \n",
    "  \n",
    "__Step3:__  \n",
    "Choosing the level of significance,confidence interval and Degree of Freedom\n",
    "DOF = 70-8 = 62\n",
    "  \n",
    "__Step4:__  \n",
    "Compute the t value from the formula:  \n",
    "Z = 0.22\n",
    "  \n",
    "__Step5:__  \n",
    "Compute the t value from a table:  \n",
    "Z = 2.018\n",
    "  \n",
    "__Step6:__  \n",
    "Compare the calculated value and table value  \n",
    "\n",
    "__Step7:__  \n",
    "Calculated z-value deos lies on the rejection region.  \n",
    "So, the statement is True, attrition is with employee who are there 6 years in a company"
   ]
  },
  {
   "cell_type": "code",
   "execution_count": null,
   "metadata": {},
   "outputs": [],
   "source": []
  }
 ],
 "metadata": {
  "kernelspec": {
   "display_name": "Python 3",
   "language": "python",
   "name": "python3"
  },
  "language_info": {
   "codemirror_mode": {
    "name": "ipython",
    "version": 3
   },
   "file_extension": ".py",
   "mimetype": "text/x-python",
   "name": "python",
   "nbconvert_exporter": "python",
   "pygments_lexer": "ipython3",
   "version": "3.7.6"
  }
 },
 "nbformat": 4,
 "nbformat_minor": 4
}
