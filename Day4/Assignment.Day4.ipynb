{
 "cells": [
  {
   "cell_type": "markdown",
   "metadata": {},
   "source": [
    "## Question 1"
   ]
  },
  {
   "cell_type": "markdown",
   "metadata": {},
   "source": [
    "__ADDITION:__  \n",
    "          -> Addition of complex numbers is done by using '+' operator in python as same as addtion of integers.  \n",
    "          -> The operation is as follows, the real part of first number is added with real part of second number \n",
    "          and imaginary part of first number is added with imaginary part of second number.  \n",
    "          Ex:  \n",
    "          first =2+4j  \n",
    "\t      second=3+6j   \n",
    "\t\t  real part = 2+3 =5  \n",
    " \t      imaginary part = 4+6 =10  \n",
    "          result = 5+10j \n",
    "            \n",
    "__SUBTRACTION:__  \n",
    "\t      -> Subtraction of complex numbers is done by using '-' operator in python as same as subtraction of integers.  \n",
    "          -> The operation is as follows, the real part of first number is subtracted with real part of second number\n",
    "          and imaginary part of first number is subtracted with imaginary part of second number.  \n",
    "\t      Ex:  \n",
    "          first = 2+4j  \n",
    "\t      second = 3+6j  \n",
    "          real part = 2-3 =-1  \n",
    " \t      imaginary part = 4-6 =-2  \n",
    "          result = -1-2j  \n",
    "            \n",
    "__MULTIPLICATION:__  \n",
    "\t\t  Multiplication of complex numbers is different from normal numbers multiplication.The operator used is '*'.  \n",
    "          The process as follows:  \n",
    "          first = 2+3j\n",
    "          second = 1+2j\n",
    "          (2+3j)*(1+2j) = 2*1 + 2*2j + 3j*1 + 3j*2j = -4+7j  \n",
    "            \n",
    "__DIVISION:__  \n",
    "           The operation used for division is '/'.Division is performed by multiplying complex conjugate of denominator \n",
    "           to numerator and denominator.  \n",
    "             \n",
    "__FLOOR DIVISION:__  \n",
    "           Floor Division is not possible for complex numbers in python.For integers, the operator used for floor \n",
    "           division is '//', we will get error if we use this symbol for complex numbers. \n",
    "             \n",
    "__MODULO:__  \n",
    "           Modulo opeartion is not possible for complex numbers in python.For integers, the operator used for modulo \n",
    "           is '%', we will get error if we use this symbol for complex numbers.  \n",
    "             "
   ]
  },
  {
   "cell_type": "code",
   "execution_count": 7,
   "metadata": {},
   "outputs": [
    {
     "name": "stdout",
     "output_type": "stream",
     "text": [
      "(5+10j)\n",
      "(-1-2j)\n",
      "(-18+24j)\n",
      "(0.6666666666666666+0j)\n"
     ]
    }
   ],
   "source": [
    "#Addition\n",
    "a = 2+4j                \n",
    "b = 3+6j               \n",
    "print(a+b)\n",
    "\n",
    "#Subtraction\n",
    "print(a-b)\n",
    "\n",
    "#Multiplication\n",
    "print(a*b)\n",
    "\n",
    "#Division\n",
    "print(a/b)\n",
    "\n",
    "#Floor Division is not possible\n",
    "\n",
    "#Modulo is not possible\n"
   ]
  },
  {
   "cell_type": "markdown",
   "metadata": {},
   "source": [
    "## Question 2"
   ]
  },
  {
   "cell_type": "markdown",
   "metadata": {},
   "source": [
    "__range()__  \n",
    "->The built-in function range() generates the integer numbers between the given start integer to the stop ineteger \n",
    "with the given step number.  \n",
    "-> default value for start integer is 0  \n",
    "-> default value for step integer is 1  \n",
    "Ex:  \n",
    "range (1,7,1) (start,stop,step) -- 1,2,3,4,5,6  \n",
    "range(6,1,-1) --- 6,5,4,3,2  \n",
    "range(5) --- 0,1,2,3,4  (using default values)  "
   ]
  },
  {
   "cell_type": "code",
   "execution_count": 10,
   "metadata": {},
   "outputs": [
    {
     "name": "stdout",
     "output_type": "stream",
     "text": [
      "2\n",
      "5\n",
      "8\n",
      "11\n",
      "14\n",
      "17\n",
      "20\n",
      "23\n"
     ]
    }
   ],
   "source": [
    "start = 2\n",
    "stop = 25\n",
    "step = 3\n",
    "for i in range(start,stop,step):\n",
    "    print(i)"
   ]
  },
  {
   "cell_type": "markdown",
   "metadata": {},
   "source": [
    "## Question 3"
   ]
  },
  {
   "cell_type": "code",
   "execution_count": 11,
   "metadata": {},
   "outputs": [
    {
     "name": "stdout",
     "output_type": "stream",
     "text": [
      "68\n"
     ]
    }
   ],
   "source": [
    "a = 34\n",
    "b = 2\n",
    "if (a-b)>25 or (b-a)>25:\n",
    "    print(a*b)\n",
    "else:\n",
    "    print(a/b)"
   ]
  },
  {
   "cell_type": "markdown",
   "metadata": {},
   "source": [
    "## Question 4"
   ]
  },
  {
   "cell_type": "code",
   "execution_count": 13,
   "metadata": {},
   "outputs": [
    {
     "name": "stdout",
     "output_type": "stream",
     "text": [
      "square of that number minus 2\n",
      "square of that number minus 2\n",
      "square of that number minus 2\n",
      "square of that number minus 2\n",
      "square of that number minus 2\n",
      "square of that number minus 2\n"
     ]
    }
   ],
   "source": [
    "my_list2 = [2,5,4,6,7,10,4,6,1,3]\n",
    "for i in my_list2:\n",
    "    if i%2==0:\n",
    "        print(\"square of that number minus 2\")"
   ]
  },
  {
   "cell_type": "markdown",
   "metadata": {},
   "source": [
    "## Question 5"
   ]
  },
  {
   "cell_type": "code",
   "execution_count": 14,
   "metadata": {},
   "outputs": [
    {
     "name": "stdout",
     "output_type": "stream",
     "text": [
      "10\n",
      "76\n",
      "24\n"
     ]
    }
   ],
   "source": [
    "my_list3 = [10,5,76,35,9,6,2,0,21,24]\n",
    "for i in my_list3:\n",
    "    if i>7 and i%2==0:\n",
    "        print(i)"
   ]
  }
 ],
 "metadata": {
  "kernelspec": {
   "display_name": "Python 3",
   "language": "python",
   "name": "python3"
  },
  "language_info": {
   "codemirror_mode": {
    "name": "ipython",
    "version": 3
   },
   "file_extension": ".py",
   "mimetype": "text/x-python",
   "name": "python",
   "nbconvert_exporter": "python",
   "pygments_lexer": "ipython3",
   "version": "3.7.6"
  }
 },
 "nbformat": 4,
 "nbformat_minor": 4
}
